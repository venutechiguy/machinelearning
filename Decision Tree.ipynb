{
 "cells": [
  {
   "cell_type": "code",
   "execution_count": 3,
   "id": "74a53ff4",
   "metadata": {},
   "outputs": [],
   "source": [
    "import numpy as np\n",
    "import pandas as pd\n"
   ]
  },
  {
   "cell_type": "code",
   "execution_count": 5,
   "id": "0d7ef651",
   "metadata": {},
   "outputs": [],
   "source": [
    "data=pd.read_csv(\"C:\\\\Users\\\\user\\\\AppData\\\\Local\\\\Temp\\\\Rar$DIa11352.17079\\\\Iris.csv\")"
   ]
  },
  {
   "cell_type": "code",
   "execution_count": 6,
   "id": "c281f463",
   "metadata": {},
   "outputs": [
    {
     "data": {
      "text/html": [
       "<div>\n",
       "<style scoped>\n",
       "    .dataframe tbody tr th:only-of-type {\n",
       "        vertical-align: middle;\n",
       "    }\n",
       "\n",
       "    .dataframe tbody tr th {\n",
       "        vertical-align: top;\n",
       "    }\n",
       "\n",
       "    .dataframe thead th {\n",
       "        text-align: right;\n",
       "    }\n",
       "</style>\n",
       "<table border=\"1\" class=\"dataframe\">\n",
       "  <thead>\n",
       "    <tr style=\"text-align: right;\">\n",
       "      <th></th>\n",
       "      <th>Id</th>\n",
       "      <th>SepalLengthCm</th>\n",
       "      <th>SepalWidthCm</th>\n",
       "      <th>PetalLengthCm</th>\n",
       "      <th>PetalWidthCm</th>\n",
       "      <th>Species</th>\n",
       "    </tr>\n",
       "  </thead>\n",
       "  <tbody>\n",
       "    <tr>\n",
       "      <th>0</th>\n",
       "      <td>1</td>\n",
       "      <td>5.1</td>\n",
       "      <td>3.5</td>\n",
       "      <td>1.4</td>\n",
       "      <td>0.2</td>\n",
       "      <td>Iris-setosa</td>\n",
       "    </tr>\n",
       "    <tr>\n",
       "      <th>1</th>\n",
       "      <td>2</td>\n",
       "      <td>4.9</td>\n",
       "      <td>3.0</td>\n",
       "      <td>1.4</td>\n",
       "      <td>0.2</td>\n",
       "      <td>Iris-setosa</td>\n",
       "    </tr>\n",
       "    <tr>\n",
       "      <th>2</th>\n",
       "      <td>3</td>\n",
       "      <td>4.7</td>\n",
       "      <td>3.2</td>\n",
       "      <td>1.3</td>\n",
       "      <td>0.2</td>\n",
       "      <td>Iris-setosa</td>\n",
       "    </tr>\n",
       "    <tr>\n",
       "      <th>3</th>\n",
       "      <td>4</td>\n",
       "      <td>4.6</td>\n",
       "      <td>3.1</td>\n",
       "      <td>1.5</td>\n",
       "      <td>0.2</td>\n",
       "      <td>Iris-setosa</td>\n",
       "    </tr>\n",
       "    <tr>\n",
       "      <th>4</th>\n",
       "      <td>5</td>\n",
       "      <td>5.0</td>\n",
       "      <td>3.6</td>\n",
       "      <td>1.4</td>\n",
       "      <td>0.2</td>\n",
       "      <td>Iris-setosa</td>\n",
       "    </tr>\n",
       "    <tr>\n",
       "      <th>...</th>\n",
       "      <td>...</td>\n",
       "      <td>...</td>\n",
       "      <td>...</td>\n",
       "      <td>...</td>\n",
       "      <td>...</td>\n",
       "      <td>...</td>\n",
       "    </tr>\n",
       "    <tr>\n",
       "      <th>145</th>\n",
       "      <td>146</td>\n",
       "      <td>6.7</td>\n",
       "      <td>3.0</td>\n",
       "      <td>5.2</td>\n",
       "      <td>2.3</td>\n",
       "      <td>Iris-virginica</td>\n",
       "    </tr>\n",
       "    <tr>\n",
       "      <th>146</th>\n",
       "      <td>147</td>\n",
       "      <td>6.3</td>\n",
       "      <td>2.5</td>\n",
       "      <td>5.0</td>\n",
       "      <td>1.9</td>\n",
       "      <td>Iris-virginica</td>\n",
       "    </tr>\n",
       "    <tr>\n",
       "      <th>147</th>\n",
       "      <td>148</td>\n",
       "      <td>6.5</td>\n",
       "      <td>3.0</td>\n",
       "      <td>5.2</td>\n",
       "      <td>2.0</td>\n",
       "      <td>Iris-virginica</td>\n",
       "    </tr>\n",
       "    <tr>\n",
       "      <th>148</th>\n",
       "      <td>149</td>\n",
       "      <td>6.2</td>\n",
       "      <td>3.4</td>\n",
       "      <td>5.4</td>\n",
       "      <td>2.3</td>\n",
       "      <td>Iris-virginica</td>\n",
       "    </tr>\n",
       "    <tr>\n",
       "      <th>149</th>\n",
       "      <td>150</td>\n",
       "      <td>5.9</td>\n",
       "      <td>3.0</td>\n",
       "      <td>5.1</td>\n",
       "      <td>1.8</td>\n",
       "      <td>Iris-virginica</td>\n",
       "    </tr>\n",
       "  </tbody>\n",
       "</table>\n",
       "<p>150 rows × 6 columns</p>\n",
       "</div>"
      ],
      "text/plain": [
       "      Id  SepalLengthCm  SepalWidthCm  PetalLengthCm  PetalWidthCm  \\\n",
       "0      1            5.1           3.5            1.4           0.2   \n",
       "1      2            4.9           3.0            1.4           0.2   \n",
       "2      3            4.7           3.2            1.3           0.2   \n",
       "3      4            4.6           3.1            1.5           0.2   \n",
       "4      5            5.0           3.6            1.4           0.2   \n",
       "..   ...            ...           ...            ...           ...   \n",
       "145  146            6.7           3.0            5.2           2.3   \n",
       "146  147            6.3           2.5            5.0           1.9   \n",
       "147  148            6.5           3.0            5.2           2.0   \n",
       "148  149            6.2           3.4            5.4           2.3   \n",
       "149  150            5.9           3.0            5.1           1.8   \n",
       "\n",
       "            Species  \n",
       "0       Iris-setosa  \n",
       "1       Iris-setosa  \n",
       "2       Iris-setosa  \n",
       "3       Iris-setosa  \n",
       "4       Iris-setosa  \n",
       "..              ...  \n",
       "145  Iris-virginica  \n",
       "146  Iris-virginica  \n",
       "147  Iris-virginica  \n",
       "148  Iris-virginica  \n",
       "149  Iris-virginica  \n",
       "\n",
       "[150 rows x 6 columns]"
      ]
     },
     "execution_count": 6,
     "metadata": {},
     "output_type": "execute_result"
    }
   ],
   "source": [
    "data"
   ]
  },
  {
   "cell_type": "code",
   "execution_count": 7,
   "id": "cdb58668",
   "metadata": {},
   "outputs": [],
   "source": [
    "labels = ['sepal_length', 'sepal_width', 'petal_length', 'petal_width']"
   ]
  },
  {
   "cell_type": "code",
   "execution_count": 19,
   "id": "4e9846e1",
   "metadata": {},
   "outputs": [],
   "source": [
    "# Define a function to calculate entropy\n",
    "def entropy(y):\n",
    "    _, counts = np.unique(y, return_counts=True)\n",
    "    p = counts / len(y)\n",
    "    return -np.sum(p * np.log2(p))"
   ]
  },
  {
   "cell_type": "code",
   "execution_count": 40,
   "id": "cf421d36",
   "metadata": {},
   "outputs": [],
   "source": [
    "def information_gain(feature, target):\n",
    "    # Calculate the entropy of the target variable\n",
    "    total_entropy = entropy(target)\n",
    "    # Calculate the weighted entropy for each possible value of the feature\n",
    "    weighted_entropies = []\n",
    "    for value in np.unique(feature):\n",
    "        mask = feature == value\n",
    "        weight = np.sum(mask) / len(target)\n",
    "        subset_entropy = entropy(target[mask])\n",
    "        weighted_entropies.append(weight * subset_entropy)\n",
    "    # Calculate the total weighted entropy for the feature\n",
    "    total_weighted_entropy = np.sum(weighted_entropies)\n",
    "    # Return the information gain\n",
    "    return total_entropy - total_weighted_entropy"
   ]
  },
  {
   "cell_type": "code",
   "execution_count": 41,
   "id": "1f199acf",
   "metadata": {},
   "outputs": [],
   "source": [
    "# Define the create_tree() function\n",
    "def create_tree(X, y, labels):\n",
    "    # Check if all target values are the same\n",
    "    if len(np.unique(y)) == 1:\n",
    "        return y[0]\n",
    "    # Check if there are no more features to split on\n",
    "    if X.shape[1] == 0:\n",
    "        return np.bincount(y).argmax()\n",
    "    # Find the best feature to split on\n",
    "    gains = []\n",
    "    for i in range(X.shape[1]):\n",
    "        gains.append(information_gain(X[:, i], y))\n",
    "    best_feature = np.argmax(gains)\n",
    "    # Create a new decision tree node with the best feature\n",
    "    tree = {'feature': labels[best_feature], 'children': {}}\n",
    "    # Recursively create subtrees for each possible value of the best feature\n",
    "    for value in np.unique(X[:, best_feature]):\n",
    "        # Split the data based on the best feature\n",
    "        mask = X[:, best_feature] == value\n",
    "        X_subset = X[mask, :]\n",
    "        y_subset = y[mask]\n",
    "        # Remove the best feature from the list of labels\n",
    "        labels_subset = [label for i, label in enumerate(labels) if i != best_feature]\n",
    "        # Recursively create a subtree\n",
    "        subtree = create_tree(X_subset, y_subset, labels_subset)\n",
    "        # Add the subtree to the decision tree\n",
    "        tree['children'][value] = subtree\n",
    "    return tree\n",
    "\n",
    "\n",
    "\n",
    "\n",
    "\n",
    "\n",
    "\n",
    "    "
   ]
  },
  {
   "cell_type": "code",
   "execution_count": 42,
   "id": "dab29d3c",
   "metadata": {
    "scrolled": true
   },
   "outputs": [],
   "source": [
    "# Split the dataset into training and testing data\n",
    "train_data = data.sample(frac=0.8, random_state=1)\n",
    "test_data = data.drop(train_data.index)\n"
   ]
  },
  {
   "cell_type": "code",
   "execution_count": 43,
   "id": "99aaf7a0",
   "metadata": {},
   "outputs": [],
   "source": [
    "# Specify the labels for the features\n",
    "labels = list(data.columns[:-1])\n"
   ]
  },
  {
   "cell_type": "code",
   "execution_count": 44,
   "id": "86f0d439",
   "metadata": {},
   "outputs": [],
   "source": [
    "# Create the decision tree using the training data\n",
    "tree = create_tree(train_data.iloc[:, :-1].values, train_data.iloc[:, -1].values, labels)"
   ]
  },
  {
   "cell_type": "code",
   "execution_count": 45,
   "id": "8189b75a",
   "metadata": {},
   "outputs": [
    {
     "name": "stdout",
     "output_type": "stream",
     "text": [
      "{'feature': 'Id', 'children': {3.0: 'Iris-setosa', 4.0: 'Iris-setosa', 5.0: 'Iris-setosa', 6.0: 'Iris-setosa', 7.0: 'Iris-setosa', 10.0: 'Iris-setosa', 11.0: 'Iris-setosa', 12.0: 'Iris-setosa', 13.0: 'Iris-setosa', 15.0: 'Iris-setosa', 16.0: 'Iris-setosa', 17.0: 'Iris-setosa', 18.0: 'Iris-setosa', 19.0: 'Iris-setosa', 20.0: 'Iris-setosa', 22.0: 'Iris-setosa', 24.0: 'Iris-setosa', 25.0: 'Iris-setosa', 27.0: 'Iris-setosa', 28.0: 'Iris-setosa', 29.0: 'Iris-setosa', 30.0: 'Iris-setosa', 31.0: 'Iris-setosa', 32.0: 'Iris-setosa', 33.0: 'Iris-setosa', 34.0: 'Iris-setosa', 35.0: 'Iris-setosa', 36.0: 'Iris-setosa', 37.0: 'Iris-setosa', 39.0: 'Iris-setosa', 40.0: 'Iris-setosa', 41.0: 'Iris-setosa', 42.0: 'Iris-setosa', 43.0: 'Iris-setosa', 44.0: 'Iris-setosa', 45.0: 'Iris-setosa', 46.0: 'Iris-setosa', 47.0: 'Iris-setosa', 49.0: 'Iris-setosa', 50.0: 'Iris-setosa', 52.0: 'Iris-versicolor', 53.0: 'Iris-versicolor', 54.0: 'Iris-versicolor', 55.0: 'Iris-versicolor', 56.0: 'Iris-versicolor', 57.0: 'Iris-versicolor', 59.0: 'Iris-versicolor', 60.0: 'Iris-versicolor', 63.0: 'Iris-versicolor', 65.0: 'Iris-versicolor', 66.0: 'Iris-versicolor', 67.0: 'Iris-versicolor', 68.0: 'Iris-versicolor', 70.0: 'Iris-versicolor', 71.0: 'Iris-versicolor', 74.0: 'Iris-versicolor', 75.0: 'Iris-versicolor', 76.0: 'Iris-versicolor', 77.0: 'Iris-versicolor', 78.0: 'Iris-versicolor', 79.0: 'Iris-versicolor', 81.0: 'Iris-versicolor', 83.0: 'Iris-versicolor', 84.0: 'Iris-versicolor', 85.0: 'Iris-versicolor', 86.0: 'Iris-versicolor', 88.0: 'Iris-versicolor', 90.0: 'Iris-versicolor', 91.0: 'Iris-versicolor', 92.0: 'Iris-versicolor', 93.0: 'Iris-versicolor', 94.0: 'Iris-versicolor', 95.0: 'Iris-versicolor', 96.0: 'Iris-versicolor', 98.0: 'Iris-versicolor', 99.0: 'Iris-versicolor', 100.0: 'Iris-versicolor', 101.0: 'Iris-virginica', 103.0: 'Iris-virginica', 104.0: 'Iris-virginica', 105.0: 'Iris-virginica', 106.0: 'Iris-virginica', 107.0: 'Iris-virginica', 108.0: 'Iris-virginica', 109.0: 'Iris-virginica', 110.0: 'Iris-virginica', 111.0: 'Iris-virginica', 112.0: 'Iris-virginica', 113.0: 'Iris-virginica', 114.0: 'Iris-virginica', 115.0: 'Iris-virginica', 117.0: 'Iris-virginica', 118.0: 'Iris-virginica', 119.0: 'Iris-virginica', 120.0: 'Iris-virginica', 121.0: 'Iris-virginica', 122.0: 'Iris-virginica', 123.0: 'Iris-virginica', 124.0: 'Iris-virginica', 125.0: 'Iris-virginica', 126.0: 'Iris-virginica', 127.0: 'Iris-virginica', 128.0: 'Iris-virginica', 129.0: 'Iris-virginica', 131.0: 'Iris-virginica', 132.0: 'Iris-virginica', 133.0: 'Iris-virginica', 136.0: 'Iris-virginica', 137.0: 'Iris-virginica', 139.0: 'Iris-virginica', 140.0: 'Iris-virginica', 142.0: 'Iris-virginica', 143.0: 'Iris-virginica', 144.0: 'Iris-virginica', 145.0: 'Iris-virginica', 146.0: 'Iris-virginica', 147.0: 'Iris-virginica', 148.0: 'Iris-virginica', 149.0: 'Iris-virginica', 150.0: 'Iris-virginica'}}\n"
     ]
    }
   ],
   "source": [
    "print(tree)"
   ]
  },
  {
   "cell_type": "code",
   "execution_count": 46,
   "id": "6feb05e1",
   "metadata": {},
   "outputs": [],
   "source": [
    " # Define a function to make predictions with the decision tree\n",
    "def predict(tree, sample):\n",
    "    for feature, subtree in tree.items():\n",
    "        if sample[feature] <= np.median(train_data[feature]):\n",
    "            if isinstance(subtree['<= median'], dict):\n",
    "                return"
   ]
  },
  {
   "cell_type": "code",
   "execution_count": null,
   "id": "ad1d8640",
   "metadata": {},
   "outputs": [],
   "source": []
  }
 ],
 "metadata": {
  "kernelspec": {
   "display_name": "Python 3",
   "language": "python",
   "name": "python3"
  },
  "language_info": {
   "codemirror_mode": {
    "name": "ipython",
    "version": 3
   },
   "file_extension": ".py",
   "mimetype": "text/x-python",
   "name": "python",
   "nbconvert_exporter": "python",
   "pygments_lexer": "ipython3",
   "version": "3.8.8"
  }
 },
 "nbformat": 4,
 "nbformat_minor": 5
}
