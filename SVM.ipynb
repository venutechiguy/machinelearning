{
 "cells": [
  {
   "cell_type": "code",
   "execution_count": 1,
   "id": "feacf4e1",
   "metadata": {},
   "outputs": [],
   "source": [
    "import numpy as np\n",
    "import matplotlib.pyplot as plt"
   ]
  },
  {
   "cell_type": "code",
   "execution_count": 2,
   "id": "c6b179bc",
   "metadata": {},
   "outputs": [],
   "source": [
    "# Generate random data\n",
    "np.random.seed(0)\n",
    "X = np.random.randn(100, 2)#in this example  we generate 100 points on 2 dimensional  \n",
    "y = np.array([-1 if x[0]**2 + x[1]**2 > 1 else 1 for x in X])"
   ]
  },
  {
   "cell_type": "code",
   "execution_count": 3,
   "id": "b3b0626e",
   "metadata": {},
   "outputs": [
    {
     "data": {
      "text/plain": [
       "array([[ 1.76405235,  0.40015721],\n",
       "       [ 0.97873798,  2.2408932 ],\n",
       "       [ 1.86755799, -0.97727788],\n",
       "       [ 0.95008842, -0.15135721],\n",
       "       [-0.10321885,  0.4105985 ],\n",
       "       [ 0.14404357,  1.45427351],\n",
       "       [ 0.76103773,  0.12167502],\n",
       "       [ 0.44386323,  0.33367433],\n",
       "       [ 1.49407907, -0.20515826],\n",
       "       [ 0.3130677 , -0.85409574],\n",
       "       [-2.55298982,  0.6536186 ],\n",
       "       [ 0.8644362 , -0.74216502],\n",
       "       [ 2.26975462, -1.45436567],\n",
       "       [ 0.04575852, -0.18718385],\n",
       "       [ 1.53277921,  1.46935877],\n",
       "       [ 0.15494743,  0.37816252],\n",
       "       [-0.88778575, -1.98079647],\n",
       "       [-0.34791215,  0.15634897],\n",
       "       [ 1.23029068,  1.20237985],\n",
       "       [-0.38732682, -0.30230275],\n",
       "       [-1.04855297, -1.42001794],\n",
       "       [-1.70627019,  1.9507754 ],\n",
       "       [-0.50965218, -0.4380743 ],\n",
       "       [-1.25279536,  0.77749036],\n",
       "       [-1.61389785, -0.21274028],\n",
       "       [-0.89546656,  0.3869025 ],\n",
       "       [-0.51080514, -1.18063218],\n",
       "       [-0.02818223,  0.42833187],\n",
       "       [ 0.06651722,  0.3024719 ],\n",
       "       [-0.63432209, -0.36274117],\n",
       "       [-0.67246045, -0.35955316],\n",
       "       [-0.81314628, -1.7262826 ],\n",
       "       [ 0.17742614, -0.40178094],\n",
       "       [-1.63019835,  0.46278226],\n",
       "       [-0.90729836,  0.0519454 ],\n",
       "       [ 0.72909056,  0.12898291],\n",
       "       [ 1.13940068, -1.23482582],\n",
       "       [ 0.40234164, -0.68481009],\n",
       "       [-0.87079715, -0.57884966],\n",
       "       [-0.31155253,  0.05616534],\n",
       "       [-1.16514984,  0.90082649],\n",
       "       [ 0.46566244, -1.53624369],\n",
       "       [ 1.48825219,  1.89588918],\n",
       "       [ 1.17877957, -0.17992484],\n",
       "       [-1.07075262,  1.05445173],\n",
       "       [-0.40317695,  1.22244507],\n",
       "       [ 0.20827498,  0.97663904],\n",
       "       [ 0.3563664 ,  0.70657317],\n",
       "       [ 0.01050002,  1.78587049],\n",
       "       [ 0.12691209,  0.40198936],\n",
       "       [ 1.8831507 , -1.34775906],\n",
       "       [-1.270485  ,  0.96939671],\n",
       "       [-1.17312341,  1.94362119],\n",
       "       [-0.41361898, -0.74745481],\n",
       "       [ 1.92294203,  1.48051479],\n",
       "       [ 1.86755896,  0.90604466],\n",
       "       [-0.86122569,  1.91006495],\n",
       "       [-0.26800337,  0.8024564 ],\n",
       "       [ 0.94725197, -0.15501009],\n",
       "       [ 0.61407937,  0.92220667],\n",
       "       [ 0.37642553, -1.09940079],\n",
       "       [ 0.29823817,  1.3263859 ],\n",
       "       [-0.69456786, -0.14963454],\n",
       "       [-0.43515355,  1.84926373],\n",
       "       [ 0.67229476,  0.40746184],\n",
       "       [-0.76991607,  0.53924919],\n",
       "       [-0.67433266,  0.03183056],\n",
       "       [-0.63584608,  0.67643329],\n",
       "       [ 0.57659082, -0.20829876],\n",
       "       [ 0.39600671, -1.09306151],\n",
       "       [-1.49125759,  0.4393917 ],\n",
       "       [ 0.1666735 ,  0.63503144],\n",
       "       [ 2.38314477,  0.94447949],\n",
       "       [-0.91282223,  1.11701629],\n",
       "       [-1.31590741, -0.4615846 ],\n",
       "       [-0.06824161,  1.71334272],\n",
       "       [-0.74475482, -0.82643854],\n",
       "       [-0.09845252, -0.66347829],\n",
       "       [ 1.12663592, -1.07993151],\n",
       "       [-1.14746865, -0.43782004],\n",
       "       [-0.49803245,  1.92953205],\n",
       "       [ 0.94942081,  0.08755124],\n",
       "       [-1.22543552,  0.84436298],\n",
       "       [-1.00021535, -1.5447711 ],\n",
       "       [ 1.18802979,  0.31694261],\n",
       "       [ 0.92085882,  0.31872765],\n",
       "       [ 0.85683061, -0.65102559],\n",
       "       [-1.03424284,  0.68159452],\n",
       "       [-0.80340966, -0.68954978],\n",
       "       [-0.4555325 ,  0.01747916],\n",
       "       [-0.35399391, -1.37495129],\n",
       "       [-0.6436184 , -2.22340315],\n",
       "       [ 0.62523145, -1.60205766],\n",
       "       [-1.10438334,  0.05216508],\n",
       "       [-0.739563  ,  1.5430146 ],\n",
       "       [-1.29285691,  0.26705087],\n",
       "       [-0.03928282, -1.1680935 ],\n",
       "       [ 0.52327666, -0.17154633],\n",
       "       [ 0.77179055,  0.82350415],\n",
       "       [ 2.16323595,  1.33652795]])"
      ]
     },
     "execution_count": 3,
     "metadata": {},
     "output_type": "execute_result"
    }
   ],
   "source": [
    "X"
   ]
  },
  {
   "cell_type": "code",
   "execution_count": 4,
   "id": "d1062f74",
   "metadata": {},
   "outputs": [
    {
     "data": {
      "text/plain": [
       "array([-1, -1, -1,  1,  1, -1,  1,  1, -1,  1, -1, -1, -1,  1, -1,  1, -1,\n",
       "        1, -1,  1, -1, -1,  1, -1, -1,  1, -1,  1,  1,  1,  1, -1,  1, -1,\n",
       "        1,  1, -1,  1, -1,  1, -1, -1, -1, -1, -1, -1,  1,  1, -1,  1, -1,\n",
       "       -1, -1,  1, -1, -1, -1,  1,  1, -1, -1, -1,  1, -1,  1,  1,  1,  1,\n",
       "        1, -1, -1,  1, -1, -1, -1, -1, -1,  1, -1, -1, -1,  1, -1, -1, -1,\n",
       "        1, -1, -1, -1,  1, -1, -1, -1, -1, -1, -1, -1,  1, -1, -1])"
      ]
     },
     "execution_count": 4,
     "metadata": {},
     "output_type": "execute_result"
    }
   ],
   "source": [
    "y"
   ]
  },
  {
   "cell_type": "code",
   "execution_count": 6,
   "id": "1282afc3",
   "metadata": {},
   "outputs": [],
   "source": [
    "# SVM using stochastic gradient descent\n",
    "def svm_sgd(X, Y):\n",
    "    w = np.zeros(X.shape[1])#This function takes in the data matrix X and label vector Y.which helps prevent overfitting\n",
    "    alpha = 0.01            #and returns the weight vector w that defines the decision boundary of the SVM.\n",
    "    epochs = 100000         #We use a learning rate of alpha=0.01, and run the algorithm for epochs=100000 iterations.\n",
    "    for epoch in range(1, epochs+1):\n",
    "        for i, x in enumerate(X):#Note that we also add a regularization term to the weight update step,\n",
    "            if (Y[i]*np.dot(X[i], w)) < 1:#which helps prevent overfitting\n",
    "                w = w + alpha * ((Y[i]*X[i]) + (-2*(1/epoch)*w))\n",
    "            else:\n",
    "                w = w + alpha * (-2*(1/epoch)*w)\n",
    "    return w\n"
   ]
  },
  {
   "cell_type": "code",
   "execution_count": 7,
   "id": "e18ea4cb",
   "metadata": {},
   "outputs": [
    {
     "data": {
      "image/png": "[encoded data removed]",
      "text/plain": [
       "<Figure size 432x288 with 1 Axes>"
      ]
     },
     "metadata": {
      "needs_background": "light"
     },
     "output_type": "display_data"
    }
   ],
   "source": [
    "# Plot data points and decision boundary\n",
    "def plot_svm(X, y, w):#This function plots the data points using plt.scatter\n",
    "    plt.scatter(X[:, 0], X[:, 1], c=y)#and then plots the decision boundary using the weight vector w obtained\n",
    "    xx = np.linspace(-3, 3)#from the SVM algorithm\n",
    "    yy = (-w[0]*xx) / w[1]#We also use np.linspace to generate a range of values for the x-axis, \n",
    "    plt.plot(xx, yy)#then compute the corresponding values for the y-axis using the equation of the decision boundary. \n",
    "    plt.axis('tight')# Finally, we call plt.show to display the plot\n",
    "    plt.show()\n",
    "\n",
    "w = svm_sgd(X, y)\n",
    "plot_svm(X, y, w)\n"
   ]
  },
  {
   "cell_type": "code",
   "execution_count": 11,
   "id": "0436e6f0",
   "metadata": {},
   "outputs": [],
   "source": [
    "import numpy as np\n",
    "import matplotlib.pyplot as plt\n",
    "\n",
    "# Generate random data\n",
    "np.random.seed(0)\n",
    "X = np.random.randn(100, 2)\n",
    "y = np.array([-1 if x[0]**2 + x[1]**2 > 1 else 1 for x in X])\n"
   ]
  },
  {
   "cell_type": "code",
   "execution_count": 12,
   "id": "f9e09b44",
   "metadata": {},
   "outputs": [],
   "source": [
    "# SVM using stochastic gradient descent\n",
    "def svm_sgd(X, Y):\n",
    "    w = np.zeros(X.shape[1])\n",
    "    alpha = 0.01\n",
    "    epochs = 100000\n",
    "    for epoch in range(1, epochs+1):\n",
    "        for i, x in enumerate(X):\n",
    "            if (Y[i]*np.dot(X[i], w)) < 1:\n",
    "                w = w + alpha * ((Y[i]*X[i]) + (-2*(1/epoch)*w))\n",
    "            else:\n",
    "                w = w + alpha * (-2*(1/epoch)*w)\n",
    "    return w"
   ]
  },
  {
   "cell_type": "code",
   "execution_count": null,
   "id": "bd107a54",
   "metadata": {},
   "outputs": [],
   "source": []
  }
 ],
 "metadata": {
  "kernelspec": {
   "display_name": "Python 3",
   "language": "python",
   "name": "python3"
  },
  "language_info": {
   "codemirror_mode": {
    "name": "ipython",
    "version": 3
   },
   "file_extension": ".py",
   "mimetype": "text/x-python",
   "name": "python",
   "nbconvert_exporter": "python",
   "pygments_lexer": "ipython3",
   "version": "3.8.8"
  }
 },
 "nbformat": 4,
 "nbformat_minor": 5
}
